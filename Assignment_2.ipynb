{
  "nbformat": 4,
  "nbformat_minor": 0,
  "metadata": {
    "colab": {
      "provenance": [],
      "mount_file_id": "1_Z6EHH1ZnT3zRZmk-Ml33WoQBFwMtpM7",
      "authorship_tag": "ABX9TyNIZyIoFXJgsvF3B1gpPl/T",
      "include_colab_link": true
    },
    "kernelspec": {
      "name": "python3",
      "display_name": "Python 3"
    },
    "language_info": {
      "name": "python"
    }
  },
  "cells": [
    {
      "cell_type": "markdown",
      "metadata": {
        "id": "view-in-github",
        "colab_type": "text"
      },
      "source": [
        "<a href=\"https://colab.research.google.com/github/Mrudhula1/ICP_2/blob/main/Assignment_2.ipynb\" target=\"_parent\"><img src=\"https://colab.research.google.com/assets/colab-badge.svg\" alt=\"Open In Colab\"/></a>"
      ]
    },
    {
      "cell_type": "markdown",
      "source": [
        "Problem 1\n"
      ],
      "metadata": {
        "id": "5Rz3B7K4qb6N"
      }
    },
    {
      "cell_type": "code",
      "source": [
        "def fullname(First_Name, Last_Name):\n",
        "    return First_Name + \" \" + Last_Name\n",
        "First_Name = input(\"Enter your First Name: \")\n",
        "Last_Name = input(\"Enter your Last Name: \")\n",
        "full_name = fullname(First_Name, Last_Name)\n",
        "print(\"Your full name is:\", full_name)"
      ],
      "metadata": {
        "colab": {
          "base_uri": "https://localhost:8080/"
        },
        "id": "oEVifUKAqil7",
        "outputId": "c52241c0-7a57-4da8-e055-b79d2da60a2f"
      },
      "execution_count": null,
      "outputs": [
        {
          "output_type": "stream",
          "name": "stdout",
          "text": [
            "Enter your First Name: Mrudhula\n",
            "Enter your Last Name: Gorrepati\n",
            "Your full name is: Mrudhula Gorrepati\n"
          ]
        }
      ]
    },
    {
      "cell_type": "markdown",
      "source": [
        "Problem 1b\n"
      ],
      "metadata": {
        "id": "7r4_GiF_ro9G"
      }
    },
    {
      "cell_type": "code",
      "source": [
        "def string_alternative(input_string):\n",
        "    result = \"\"\n",
        "    for i in range(0, len(input_string),2):\n",
        "        result += input_string[i]\n",
        "    return result\n",
        "Full_Name = input(\"enter string: \")\n",
        "alternates = string_alternative(Full_Name)\n",
        "print(alternates)"
      ],
      "metadata": {
        "colab": {
          "base_uri": "https://localhost:8080/"
        },
        "id": "eJRuYZ9ory6A",
        "outputId": "540b94d7-311b-4c80-d8e2-8b756c9e6517"
      },
      "execution_count": null,
      "outputs": [
        {
          "output_type": "stream",
          "name": "stdout",
          "text": [
            "enter string: Tae Hyung\n",
            "TeHug\n"
          ]
        }
      ]
    },
    {
      "cell_type": "markdown",
      "source": [
        "Problem 2\n"
      ],
      "metadata": {
        "id": "asQfrTQnsSMG"
      }
    },
    {
      "cell_type": "code",
      "source": [
        "from collections import defaultdict\n",
        "import re\n",
        "def count_words(line):\n",
        "    words = re.findall(r'\\w+', line.lower())\n",
        "    return words\n",
        "inputfile = \"input.txt\"\n",
        "outputfile = \"output.txt\"\n",
        "wordcount = defaultdict(int)\n",
        "with open(inputfile, 'r') as input_file, open(outputfile, 'w') as output_file:\n",
        "        output_file.write('Word_Count:\\n')\n",
        "        for line in input_file:\n",
        "            line = line.strip()\n",
        "            words = count_words(line)\n",
        "            output_file.write(line + '\\n')\n",
        "            for word in words:\n",
        "                wordcount[word] += 1\n",
        "        for word, count in wordcount.items():\n",
        "            output_file.write(f'{word}: {count}\\n')"
      ],
      "metadata": {
        "id": "jYNgViPouvOC"
      },
      "execution_count": 7,
      "outputs": []
    },
    {
      "cell_type": "markdown",
      "source": [
        "Problem - 3\n"
      ],
      "metadata": {
        "id": "D2a7AKeVtCs6"
      }
    },
    {
      "cell_type": "markdown",
      "source": [
        "Interactive loop\n"
      ],
      "metadata": {
        "id": "sfzxC0iUtdMt"
      }
    },
    {
      "cell_type": "code",
      "source": [
        "def inches_to_cm(height_in_inches):\n",
        "    return height_in_inches * 2.54\n",
        "num_of_customers = int(input(\"Enter the number of customers: \"))\n",
        "heights_in_inches = []\n",
        "heights_in_cm = []\n",
        "\n",
        "for i in range(num_of_customers):\n",
        "    height = float(input(f\"Enter height (in inches) for customer {i + 1}: \"))\n",
        "    heights_in_inches.append(height)\n",
        "    heights_in_cm.append(inches_to_cm(height))\n",
        "print(\"Heights in centimeters:\", heights_in_cm)"
      ],
      "metadata": {
        "colab": {
          "base_uri": "https://localhost:8080/"
        },
        "id": "GfaUz-27tJOW",
        "outputId": "4610c45b-9baa-4601-c62a-b5f5c74bd93b"
      },
      "execution_count": 9,
      "outputs": [
        {
          "output_type": "stream",
          "name": "stdout",
          "text": [
            "Enter the number of customers: 1\n",
            "Enter height (in inches) for customer 1: 2.6\n",
            "Heights in centimeters: [6.604]\n"
          ]
        }
      ]
    },
    {
      "cell_type": "markdown",
      "source": [
        "List comprehensions\n"
      ],
      "metadata": {
        "id": "19KB4smiuTnA"
      }
    },
    {
      "cell_type": "code",
      "source": [
        "def inches_to_cm(height_in_inches):\n",
        "    return height_in_inches * 2.54\n",
        "num_of_customers = int(input(\"Enter the number of customers: \"))\n",
        "heights_in_inches = [float(input(f\"Enter height (in inches) for customer {i + 1}: \")) for i in range(num_of_customers)]\n",
        "heights_in_cm = [inches_to_cm(height) for height in heights_in_inches]\n",
        "print(\"Heights in centimeters:\", heights_in_cm)"
      ],
      "metadata": {
        "colab": {
          "base_uri": "https://localhost:8080/"
        },
        "id": "-gN2p0FHuZI-",
        "outputId": "2ce0e5f9-dd69-4f9f-c040-ca42f6504dbc"
      },
      "execution_count": 10,
      "outputs": [
        {
          "output_type": "stream",
          "name": "stdout",
          "text": [
            "Enter the number of customers: 1\n",
            "Enter height (in inches) for customer 1: 2.5\n",
            "Heights in centimeters: [6.35]\n"
          ]
        }
      ]
    }
  ]
}